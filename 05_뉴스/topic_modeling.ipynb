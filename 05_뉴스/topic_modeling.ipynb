{
 "cells": [
  {
   "cell_type": "code",
   "execution_count": 1,
   "id": "9d79c9e5-1d67-42cd-8b6c-4c7d4f0e9ac5",
   "metadata": {},
   "outputs": [],
   "source": [
    "from sklearn.feature_extraction.text import CountVectorizer\n",
    "from sklearn.decomposition import LatentDirichletAllocation"
   ]
  },
  {
   "cell_type": "code",
   "execution_count": null,
   "id": "f44ebb02-f6d4-470d-8575-5f64abf2276f",
   "metadata": {},
   "outputs": [],
   "source": [
    "import konlpy\n",
    "import re\n",
    "\n",
    "def tokenize_korean_text(text):\n",
    "    text = re.sub(r'[^,.?!\\w\\s]','', text)\n",
    "    \n",
    "    okt = konlpy.tag.Okt()\n",
    "    Okt_morphs = okt.pos(text)\n",
    "    \n",
    "    words = []\n",
    "    ex_li = ['거래', '편입', '특징', '고수', '주식', '코스피', '전일', '대비', '이평', '검색', '랭킹', '이상', '매수', '시각', '시작', '로부터']\n",
    "    for word, pos in Okt_morphs:\n",
    "        if pos == 'Noun' and (word not in ex_li):\n",
    "            words.append(word)\n",
    "\n",
    "    words_str = ' '.join(words)\n",
    "    return words_str\n",
    "\n",
    "\n",
    "tokenized_list = []\n",
    "\n",
    "for text in df['info']:\n",
    "    tokenized_list.append(tokenize_korean_text(text))\n"
   ]
  },
  {
   "cell_type": "code",
   "execution_count": null,
   "id": "802b452c-d87c-465a-8eba-2fa8cd34382e",
   "metadata": {},
   "outputs": [],
   "source": [
    "# 적게 포함되는 단어 제외\n",
    "drop_corpus = []\n",
    "\n",
    "for index in range(len(tokenized_list)):\n",
    "    corpus = tokenized_list[index]\n",
    "    if len(set(corpus.split())) < 3:\n",
    "        df.drop(index, axis='index', inplace=True)\n",
    "        drop_corpus.append(corpus)\n",
    "    \n",
    "for corpus in drop_corpus:\n",
    "    tokenized_list.remove(corpus)\n",
    "\n",
    "df.reset_index(drop=True, inplace=True)"
   ]
  },
  {
   "cell_type": "code",
   "execution_count": null,
   "id": "2c03aaf8-d909-4160-9ddc-b817e1b7c80c",
   "metadata": {},
   "outputs": [],
   "source": [
    "count_vectorizer = CountVectorizer(max_features=1000, ngram_range=(1,2))\n",
    "\n",
    "feat_vect = count_vectorizer.fit_transform(tokenized_list)"
   ]
  },
  {
   "cell_type": "code",
   "execution_count": null,
   "id": "4a62400c-05f7-4163-b15d-d810f8c919d2",
   "metadata": {},
   "outputs": [],
   "source": [
    "# 토픽 개수 설정 후 LDA 적용\n",
    "lda = LatentDirichletAllocation(n_components=5)\n",
    "lda.fit(feat_vect)"
   ]
  },
  {
   "cell_type": "code",
   "execution_count": null,
   "id": "43117815-0a92-4d19-987e-90e025aea0d2",
   "metadata": {},
   "outputs": [],
   "source": [
    "# 토픽 모델링 결과 보여줌\n",
    "def display_topics(model, feature_names, num_top_words):\n",
    "    for topic_index, topic in enumerate(model.components_):\n",
    "        print('%d 번째 토픽 추출' % (topic_index))\n",
    ". \n",
    "        topic_word_indexes = topic.argsort()[::-1]\n",
    "        top_indexes=topic_word_indexes[:num_top_words]\n",
    "        \n",
    "        feature_result = ' '.join([feature_names[i] for i in top_indexes])                \n",
    "        print(feature_result)\n",
    "\n",
    "feature_names = count_vectorizer.get_feature_names_out()\n",
    "\n",
    "# 토픽 관련 키워드 추출 개수 설정\n",
    "display_topics(lda, feature_names, 10)"
   ]
  }
 ],
 "metadata": {
  "kernelspec": {
   "display_name": "Python 3 (ipykernel)",
   "language": "python",
   "name": "python3"
  },
  "language_info": {
   "codemirror_mode": {
    "name": "ipython",
    "version": 3
   },
   "file_extension": ".py",
   "mimetype": "text/x-python",
   "name": "python",
   "nbconvert_exporter": "python",
   "pygments_lexer": "ipython3",
   "version": "3.9.13"
  }
 },
 "nbformat": 4,
 "nbformat_minor": 5
}
