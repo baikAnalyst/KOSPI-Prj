{
 "cells": [
  {
   "cell_type": "code",
   "execution_count": 4,
   "id": "635ed385-a1a9-4c91-a90d-9e1d515bf0dd",
   "metadata": {},
   "outputs": [],
   "source": [
    "import requests\n",
    "from bs4 import BeautifulSoup as bs\n",
    "import pandas as pd"
   ]
  },
  {
   "cell_type": "code",
   "execution_count": 5,
   "id": "e15e1431-3992-4681-9d81-f1e5b49adbf3",
   "metadata": {},
   "outputs": [],
   "source": [
    "keyword = [키워드]\n",
    "keyword = keyword.encode(encoding='euc-kr', errors='strict')\n",
    "keyword = str(keyword).replace('b\\'','').replace('\\\\x','').replace('\\'', '')\n",
    "k = ''\n",
    "\n",
    "for i in range(len(keyword)):\n",
    "    if i % 2 == 0:\n",
    "        k=k+'%'+keyword[i]\n",
    "    else: \n",
    "        k+=keyword[i]  \n",
    "\n",
    "url = f'https://finance.naver.com/news/news_search.naver?rcdate=&q={k}&x=0&y=0&sm=title.basic&pd=4&stDateStart=2020-01-20&stDateEnd=2021-01-20&page=1' \n",
    "\n",
    "response = requests.get(url)  \n",
    "html_text = response.text\n",
    "soup = bs(html_text, 'html.parser')\n",
    "end = 1"
   ]
  },
  {
   "cell_type": "code",
   "execution_count": 6,
   "id": "ea7f3906-cbf1-49c7-a12e-7246b80d1107",
   "metadata": {},
   "outputs": [],
   "source": [
    "result = []\n",
    "\n",
    "for i in range(1, end+1):\n",
    "    url = f'https://finance.naver.com/news/news_search.naver?rcdate=&q={k}&x=0&y=0&sm=title.basic&pd=4&stDateStart=2020-01-20&stDateEnd=2021-01-20&page={i}' \n",
    "    response = requests.get(url)\n",
    "    html_text = response.text\n",
    "    soup = bs(html_text, 'html.parser')\n",
    "    \n",
    "    for j in soup.select('.articleSubject > a'):\n",
    "        result.append(j.get_text())"
   ]
  },
  {
   "cell_type": "code",
   "execution_count": 7,
   "id": "534af01a-172b-43c2-b1ba-d1d37cbbdec2",
   "metadata": {},
   "outputs": [],
   "source": [
    "df = pd.DataFrame()\n",
    "df = pd.DataFrame({\"info\" :result})"
   ]
  },
  {
   "cell_type": "code",
   "execution_count": 8,
   "id": "275d44a0-3313-4acb-b7f9-cd5ac06320cb",
   "metadata": {},
   "outputs": [
    {
     "data": {
      "text/html": [
       "<div>\n",
       "<style scoped>\n",
       "    .dataframe tbody tr th:only-of-type {\n",
       "        vertical-align: middle;\n",
       "    }\n",
       "\n",
       "    .dataframe tbody tr th {\n",
       "        vertical-align: top;\n",
       "    }\n",
       "\n",
       "    .dataframe thead th {\n",
       "        text-align: right;\n",
       "    }\n",
       "</style>\n",
       "<table border=\"1\" class=\"dataframe\">\n",
       "  <thead>\n",
       "    <tr style=\"text-align: right;\">\n",
       "      <th></th>\n",
       "      <th>info</th>\n",
       "    </tr>\n",
       "  </thead>\n",
       "  <tbody>\n",
       "    <tr>\n",
       "      <th>0</th>\n",
       "      <td>대한전선, 유럽 불모지 개척… 작년 1000억 수주 실적</td>\n",
       "    </tr>\n",
       "    <tr>\n",
       "      <th>1</th>\n",
       "      <td>'중동 텃밭'은 옛말‥수주 영토 넓히는 대한전선</td>\n",
       "    </tr>\n",
       "    <tr>\n",
       "      <th>2</th>\n",
       "      <td>대한전선, 박장호 사외이사 중도퇴임</td>\n",
       "    </tr>\n",
       "    <tr>\n",
       "      <th>3</th>\n",
       "      <td>[시그널] 매각 앞둔 대한전선 두달 새 시총 2배로... 고민 커진 IMM</td>\n",
       "    </tr>\n",
       "    <tr>\n",
       "      <th>4</th>\n",
       "      <td>\"LS, 4분기 일낸다\"…더 폭등한 대한전선, 왜? [박해린의 뉴스&amp;마켓]</td>\n",
       "    </tr>\n",
       "  </tbody>\n",
       "</table>\n",
       "</div>"
      ],
      "text/plain": [
       "                                        info\n",
       "0            대한전선, 유럽 불모지 개척… 작년 1000억 수주 실적\n",
       "1                 '중동 텃밭'은 옛말‥수주 영토 넓히는 대한전선\n",
       "2                        대한전선, 박장호 사외이사 중도퇴임\n",
       "3  [시그널] 매각 앞둔 대한전선 두달 새 시총 2배로... 고민 커진 IMM\n",
       "4  \"LS, 4분기 일낸다\"…더 폭등한 대한전선, 왜? [박해린의 뉴스&마켓]"
      ]
     },
     "execution_count": 8,
     "metadata": {},
     "output_type": "execute_result"
    }
   ],
   "source": [
    "df.head()"
   ]
  }
 ],
 "metadata": {
  "kernelspec": {
   "display_name": "Python 3 (ipykernel)",
   "language": "python",
   "name": "python3"
  },
  "language_info": {
   "codemirror_mode": {
    "name": "ipython",
    "version": 3
   },
   "file_extension": ".py",
   "mimetype": "text/x-python",
   "name": "python",
   "nbconvert_exporter": "python",
   "pygments_lexer": "ipython3",
   "version": "3.9.13"
  }
 },
 "nbformat": 4,
 "nbformat_minor": 5
}
